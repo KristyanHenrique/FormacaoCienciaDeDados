{
 "cells": [
  {
   "cell_type": "code",
   "execution_count": 4,
   "id": "ea466f8b-a5e9-46e7-99b2-9e71922ba833",
   "metadata": {},
   "outputs": [],
   "source": [
    "import numpy as np"
   ]
  },
  {
   "cell_type": "code",
   "execution_count": 5,
   "id": "56a41b3b-17ff-4967-b57f-0478930b4cc9",
   "metadata": {
    "collapsed": true,
    "jupyter": {
     "outputs_hidden": true
    },
    "tags": []
   },
   "outputs": [
    {
     "name": "stdout",
     "output_type": "stream",
     "text": [
      "[23 35 25 14 10]\n",
      "<class 'numpy.ndarray'>\n"
     ]
    }
   ],
   "source": [
    "#Criar Array\n",
    "array = np.array([23,35,25,14,10])\n",
    "print(array)\n",
    "print(type(array))\n"
   ]
  },
  {
   "cell_type": "code",
   "execution_count": 6,
   "id": "70f68a7d-1a8a-4243-8271-7e0df37491fc",
   "metadata": {
    "collapsed": true,
    "jupyter": {
     "outputs_hidden": true
    },
    "tags": []
   },
   "outputs": [
    {
     "name": "stdout",
     "output_type": "stream",
     "text": [
      "[23. 35. 25. 14. 10.]\n",
      "<class 'numpy.ndarray'>\n",
      "[23 35 25 14 10]\n",
      "<class 'numpy.ndarray'>\n"
     ]
    }
   ],
   "source": [
    "#Array com tipos definidos\n",
    "array = np.array([23,35,25,14,10], dtype = np.float64)\n",
    "print(array)\n",
    "print(type(array))\n",
    "array = np.array([23,35,25,14,10], dtype = np.int32)\n",
    "print(array)\n",
    "print(type(array))"
   ]
  },
  {
   "cell_type": "code",
   "execution_count": 8,
   "id": "2d15b8c5-1425-44ff-87da-79048f9fb4cd",
   "metadata": {},
   "outputs": [
    {
     "name": "stdout",
     "output_type": "stream",
     "text": [
      "[ 2.3     3.5     2.5     1.4    10.9454]\n",
      "<class 'numpy.ndarray'>\n",
      "[ 2  3  2  1 10]\n"
     ]
    }
   ],
   "source": [
    "#Converter Tipo primitvo do array\n",
    "array = np.array([2.3,3.5,2.5,1.4,10.9454], dtype = np.float64)\n",
    "print(array)\n",
    "print(type(array))\n",
    "array = array.astype(np.int32)\n",
    "print(array)"
   ]
  },
  {
   "cell_type": "code",
   "execution_count": 10,
   "id": "29526489-385d-43eb-afc8-c425038d5599",
   "metadata": {},
   "outputs": [
    {
     "name": "stdout",
     "output_type": "stream",
     "text": [
      "2\n"
     ]
    }
   ],
   "source": [
    "#matrizes em numpy\n",
    "array = np.array([[1,2,3],[1,2,3],[1,2,3],])\n",
    "print(array)"
   ]
  },
  {
   "cell_type": "code",
   "execution_count": 48,
   "id": "6e04ffc7-99af-4889-beb6-280758bbd62f",
   "metadata": {},
   "outputs": [
    {
     "name": "stdout",
     "output_type": "stream",
     "text": [
      "[0.12174546 0.97291253 0.05142744]\n",
      "\n",
      "\n",
      "[[0.37099418 0.13884326 0.21146879]\n",
      " [0.55934217 0.1395971  0.94936706]\n",
      " [0.82563032 0.36352225 0.94047875]]\n",
      "\n",
      "\n",
      "[-0.21783811  1.31383579  0.44985524]\n"
     ]
    }
   ],
   "source": [
    "#Array com valorez aleatorios\n",
    "arrayAleatorio = np.random.random((3))\n",
    "print(arrayAleatorio)\n",
    "print(\"\\n\")\n",
    "#Matriz com valorez aleatorios\n",
    "arrayAleatorio = np.random.random((3,3))\n",
    "print(arrayAleatorio)\n",
    "print(\"\\n\")\n",
    "#array com valorez aleatorios numa distribuição normal\n",
    "arrayAleatorio = np.random.randn((3))\n",
    "print(arrayAleatorio)\n"
   ]
  }
 ],
 "metadata": {
  "kernelspec": {
   "display_name": "Python 3 (ipykernel)",
   "language": "python",
   "name": "python3"
  },
  "language_info": {
   "codemirror_mode": {
    "name": "ipython",
    "version": 3
   },
   "file_extension": ".py",
   "mimetype": "text/x-python",
   "name": "python",
   "nbconvert_exporter": "python",
   "pygments_lexer": "ipython3",
   "version": "3.9.13"
  }
 },
 "nbformat": 4,
 "nbformat_minor": 5
}
